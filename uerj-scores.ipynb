{
 "cells": [
  {
   "cell_type": "markdown",
   "metadata": {},
   "source": [
    "# Data Analysis experiment\n",
    "\n",
    "this notebook is a personal project using the student scores from **UERJ** (university of the state of rio de janeiro) entrance exam to make some insights about the data and the overall performance on this test"
   ]
  },
  {
   "cell_type": "code",
   "execution_count": 1,
   "metadata": {},
   "outputs": [],
   "source": [
    "# imports\n",
    "\n",
    "import os\n",
    "import pandas as pd\n",
    "import numpy as np\n",
    "import matplotlib.pyplot as plt\n",
    "import tabula\n",
    "%matplotlib inline\n",
    "\n",
    "import pandas as pd\n",
    "\n",
    "# Set the maximum number of rows and columns to display\n",
    "pd.set_option('display.max_rows', None)  # None means display all rows\n",
    "pd.set_option('display.max_columns', None)  # None means display all columns"
   ]
  },
  {
   "cell_type": "markdown",
   "metadata": {},
   "source": [
    "### 1. import data\n",
    "\n",
    "data can be obtained from theu niversity official website:\n",
    "\n",
    "https://www.vestibular.uerj.br/?page_id=14037"
   ]
  },
  {
   "cell_type": "code",
   "execution_count": 2,
   "metadata": {},
   "outputs": [
    {
     "name": "stderr",
     "output_type": "stream",
     "text": [
      "Error importing jpype dependencies. Fallback to subprocess.\n",
      "No module named 'jpype'\n",
      "Got stderr: dez 22, 2023 10:08:57 PM org.apache.pdfbox.rendering.PDFRenderer suggestKCMS\n",
      "INFORMAÇÕES: Your current java version is: 1.8.0_51\n",
      "dez 22, 2023 10:08:57 PM org.apache.pdfbox.rendering.PDFRenderer suggestKCMS\n",
      "INFORMAÇÕES: To get higher rendering speed on old java 1.8 or 9 versions,\n",
      "dez 22, 2023 10:08:57 PM org.apache.pdfbox.rendering.PDFRenderer suggestKCMS\n",
      "INFORMAÇÕES:   update to the latest 1.8 or 9 version (>= 1.8.0_191 or >= 9.0.4),\n",
      "dez 22, 2023 10:08:57 PM org.apache.pdfbox.rendering.PDFRenderer suggestKCMS\n",
      "INFORMAÇÕES:   or\n",
      "dez 22, 2023 10:08:57 PM org.apache.pdfbox.rendering.PDFRenderer suggestKCMS\n",
      "INFORMAÇÕES:   use the option -Dsun.java2d.cmm=sun.java2d.cmm.kcms.KcmsServiceProvider\n",
      "dez 22, 2023 10:08:57 PM org.apache.pdfbox.rendering.PDFRenderer suggestKCMS\n",
      "INFORMAÇÕES:   or call System.setProperty(\"sun.java2d.cmm\", \"sun.java2d.cmm.kcms.KcmsServiceProvider\")\n",
      "\n",
      "C:\\Users\\USER\\AppData\\Local\\Temp\\ipykernel_9840\\2055474536.py:14: FutureWarning: The frame.append method is deprecated and will be removed from pandas in a future version. Use pandas.concat instead.\n",
      "  dataframe = dataframe.append(pdf_data, ignore_index=True)\n",
      "Got stderr: dez 22, 2023 10:09:20 PM org.apache.pdfbox.rendering.PDFRenderer suggestKCMS\n",
      "INFORMAÇÕES: Your current java version is: 1.8.0_51\n",
      "dez 22, 2023 10:09:20 PM org.apache.pdfbox.rendering.PDFRenderer suggestKCMS\n",
      "INFORMAÇÕES: To get higher rendering speed on old java 1.8 or 9 versions,\n",
      "dez 22, 2023 10:09:20 PM org.apache.pdfbox.rendering.PDFRenderer suggestKCMS\n",
      "INFORMAÇÕES:   update to the latest 1.8 or 9 version (>= 1.8.0_191 or >= 9.0.4),\n",
      "dez 22, 2023 10:09:20 PM org.apache.pdfbox.rendering.PDFRenderer suggestKCMS\n",
      "INFORMAÇÕES:   or\n",
      "dez 22, 2023 10:09:20 PM org.apache.pdfbox.rendering.PDFRenderer suggestKCMS\n",
      "INFORMAÇÕES:   use the option -Dsun.java2d.cmm=sun.java2d.cmm.kcms.KcmsServiceProvider\n",
      "dez 22, 2023 10:09:20 PM org.apache.pdfbox.rendering.PDFRenderer suggestKCMS\n",
      "INFORMAÇÕES:   or call System.setProperty(\"sun.java2d.cmm\", \"sun.java2d.cmm.kcms.KcmsServiceProvider\")\n",
      "\n",
      "C:\\Users\\USER\\AppData\\Local\\Temp\\ipykernel_9840\\2055474536.py:14: FutureWarning: The frame.append method is deprecated and will be removed from pandas in a future version. Use pandas.concat instead.\n",
      "  dataframe = dataframe.append(pdf_data, ignore_index=True)\n",
      "Got stderr: dez 22, 2023 10:09:40 PM org.apache.pdfbox.rendering.PDFRenderer suggestKCMS\n",
      "INFORMAÇÕES: Your current java version is: 1.8.0_51\n",
      "dez 22, 2023 10:09:40 PM org.apache.pdfbox.rendering.PDFRenderer suggestKCMS\n",
      "INFORMAÇÕES: To get higher rendering speed on old java 1.8 or 9 versions,\n",
      "dez 22, 2023 10:09:40 PM org.apache.pdfbox.rendering.PDFRenderer suggestKCMS\n",
      "INFORMAÇÕES:   update to the latest 1.8 or 9 version (>= 1.8.0_191 or >= 9.0.4),\n",
      "dez 22, 2023 10:09:40 PM org.apache.pdfbox.rendering.PDFRenderer suggestKCMS\n",
      "INFORMAÇÕES:   or\n",
      "dez 22, 2023 10:09:40 PM org.apache.pdfbox.rendering.PDFRenderer suggestKCMS\n",
      "INFORMAÇÕES:   use the option -Dsun.java2d.cmm=sun.java2d.cmm.kcms.KcmsServiceProvider\n",
      "dez 22, 2023 10:09:40 PM org.apache.pdfbox.rendering.PDFRenderer suggestKCMS\n",
      "INFORMAÇÕES:   or call System.setProperty(\"sun.java2d.cmm\", \"sun.java2d.cmm.kcms.KcmsServiceProvider\")\n",
      "\n",
      "C:\\Users\\USER\\AppData\\Local\\Temp\\ipykernel_9840\\2055474536.py:14: FutureWarning: The frame.append method is deprecated and will be removed from pandas in a future version. Use pandas.concat instead.\n",
      "  dataframe = dataframe.append(pdf_data, ignore_index=True)\n",
      "Got stderr: dez 22, 2023 10:09:56 PM org.apache.pdfbox.rendering.PDFRenderer suggestKCMS\n",
      "INFORMAÇÕES: Your current java version is: 1.8.0_51\n",
      "dez 22, 2023 10:09:56 PM org.apache.pdfbox.rendering.PDFRenderer suggestKCMS\n",
      "INFORMAÇÕES: To get higher rendering speed on old java 1.8 or 9 versions,\n",
      "dez 22, 2023 10:09:56 PM org.apache.pdfbox.rendering.PDFRenderer suggestKCMS\n",
      "INFORMAÇÕES:   update to the latest 1.8 or 9 version (>= 1.8.0_191 or >= 9.0.4),\n",
      "dez 22, 2023 10:09:56 PM org.apache.pdfbox.rendering.PDFRenderer suggestKCMS\n",
      "INFORMAÇÕES:   or\n",
      "dez 22, 2023 10:09:56 PM org.apache.pdfbox.rendering.PDFRenderer suggestKCMS\n",
      "INFORMAÇÕES:   use the option -Dsun.java2d.cmm=sun.java2d.cmm.kcms.KcmsServiceProvider\n",
      "dez 22, 2023 10:09:56 PM org.apache.pdfbox.rendering.PDFRenderer suggestKCMS\n",
      "INFORMAÇÕES:   or call System.setProperty(\"sun.java2d.cmm\", \"sun.java2d.cmm.kcms.KcmsServiceProvider\")\n",
      "\n",
      "C:\\Users\\USER\\AppData\\Local\\Temp\\ipykernel_9840\\2055474536.py:14: FutureWarning: The frame.append method is deprecated and will be removed from pandas in a future version. Use pandas.concat instead.\n",
      "  dataframe = dataframe.append(pdf_data, ignore_index=True)\n",
      "Got stderr: dez 22, 2023 10:10:19 PM org.apache.pdfbox.rendering.PDFRenderer suggestKCMS\n",
      "INFORMAÇÕES: Your current java version is: 1.8.0_51\n",
      "dez 22, 2023 10:10:19 PM org.apache.pdfbox.rendering.PDFRenderer suggestKCMS\n",
      "INFORMAÇÕES: To get higher rendering speed on old java 1.8 or 9 versions,\n",
      "dez 22, 2023 10:10:19 PM org.apache.pdfbox.rendering.PDFRenderer suggestKCMS\n",
      "INFORMAÇÕES:   update to the latest 1.8 or 9 version (>= 1.8.0_191 or >= 9.0.4),\n",
      "dez 22, 2023 10:10:19 PM org.apache.pdfbox.rendering.PDFRenderer suggestKCMS\n",
      "INFORMAÇÕES:   or\n",
      "dez 22, 2023 10:10:19 PM org.apache.pdfbox.rendering.PDFRenderer suggestKCMS\n",
      "INFORMAÇÕES:   use the option -Dsun.java2d.cmm=sun.java2d.cmm.kcms.KcmsServiceProvider\n",
      "dez 22, 2023 10:10:19 PM org.apache.pdfbox.rendering.PDFRenderer suggestKCMS\n",
      "INFORMAÇÕES:   or call System.setProperty(\"sun.java2d.cmm\", \"sun.java2d.cmm.kcms.KcmsServiceProvider\")\n",
      "\n",
      "C:\\Users\\USER\\AppData\\Local\\Temp\\ipykernel_9840\\2055474536.py:14: FutureWarning: The frame.append method is deprecated and will be removed from pandas in a future version. Use pandas.concat instead.\n",
      "  dataframe = dataframe.append(pdf_data, ignore_index=True)\n",
      "Got stderr: dez 22, 2023 10:10:36 PM org.apache.pdfbox.rendering.PDFRenderer suggestKCMS\n",
      "INFORMAÇÕES: Your current java version is: 1.8.0_51\n",
      "dez 22, 2023 10:10:36 PM org.apache.pdfbox.rendering.PDFRenderer suggestKCMS\n",
      "INFORMAÇÕES: To get higher rendering speed on old java 1.8 or 9 versions,\n",
      "dez 22, 2023 10:10:36 PM org.apache.pdfbox.rendering.PDFRenderer suggestKCMS\n",
      "INFORMAÇÕES:   update to the latest 1.8 or 9 version (>= 1.8.0_191 or >= 9.0.4),\n",
      "dez 22, 2023 10:10:36 PM org.apache.pdfbox.rendering.PDFRenderer suggestKCMS\n",
      "INFORMAÇÕES:   or\n",
      "dez 22, 2023 10:10:36 PM org.apache.pdfbox.rendering.PDFRenderer suggestKCMS\n",
      "INFORMAÇÕES:   use the option -Dsun.java2d.cmm=sun.java2d.cmm.kcms.KcmsServiceProvider\n",
      "dez 22, 2023 10:10:36 PM org.apache.pdfbox.rendering.PDFRenderer suggestKCMS\n",
      "INFORMAÇÕES:   or call System.setProperty(\"sun.java2d.cmm\", \"sun.java2d.cmm.kcms.KcmsServiceProvider\")\n",
      "\n",
      "C:\\Users\\USER\\AppData\\Local\\Temp\\ipykernel_9840\\2055474536.py:14: FutureWarning: The frame.append method is deprecated and will be removed from pandas in a future version. Use pandas.concat instead.\n",
      "  dataframe = dataframe.append(pdf_data, ignore_index=True)\n",
      "Got stderr: dez 22, 2023 10:10:59 PM org.apache.pdfbox.rendering.PDFRenderer suggestKCMS\n",
      "INFORMAÇÕES: Your current java version is: 1.8.0_51\n",
      "dez 22, 2023 10:10:59 PM org.apache.pdfbox.rendering.PDFRenderer suggestKCMS\n",
      "INFORMAÇÕES: To get higher rendering speed on old java 1.8 or 9 versions,\n",
      "dez 22, 2023 10:10:59 PM org.apache.pdfbox.rendering.PDFRenderer suggestKCMS\n",
      "INFORMAÇÕES:   update to the latest 1.8 or 9 version (>= 1.8.0_191 or >= 9.0.4),\n",
      "dez 22, 2023 10:10:59 PM org.apache.pdfbox.rendering.PDFRenderer suggestKCMS\n",
      "INFORMAÇÕES:   or\n",
      "dez 22, 2023 10:10:59 PM org.apache.pdfbox.rendering.PDFRenderer suggestKCMS\n",
      "INFORMAÇÕES:   use the option -Dsun.java2d.cmm=sun.java2d.cmm.kcms.KcmsServiceProvider\n",
      "dez 22, 2023 10:10:59 PM org.apache.pdfbox.rendering.PDFRenderer suggestKCMS\n",
      "INFORMAÇÕES:   or call System.setProperty(\"sun.java2d.cmm\", \"sun.java2d.cmm.kcms.KcmsServiceProvider\")\n",
      "\n",
      "C:\\Users\\USER\\AppData\\Local\\Temp\\ipykernel_9840\\2055474536.py:14: FutureWarning: The frame.append method is deprecated and will be removed from pandas in a future version. Use pandas.concat instead.\n",
      "  dataframe = dataframe.append(pdf_data, ignore_index=True)\n",
      "Got stderr: dez 22, 2023 10:11:24 PM org.apache.pdfbox.rendering.PDFRenderer suggestKCMS\n",
      "INFORMAÇÕES: Your current java version is: 1.8.0_51\n",
      "dez 22, 2023 10:11:24 PM org.apache.pdfbox.rendering.PDFRenderer suggestKCMS\n",
      "INFORMAÇÕES: To get higher rendering speed on old java 1.8 or 9 versions,\n",
      "dez 22, 2023 10:11:24 PM org.apache.pdfbox.rendering.PDFRenderer suggestKCMS\n",
      "INFORMAÇÕES:   update to the latest 1.8 or 9 version (>= 1.8.0_191 or >= 9.0.4),\n",
      "dez 22, 2023 10:11:24 PM org.apache.pdfbox.rendering.PDFRenderer suggestKCMS\n",
      "INFORMAÇÕES:   or\n",
      "dez 22, 2023 10:11:24 PM org.apache.pdfbox.rendering.PDFRenderer suggestKCMS\n",
      "INFORMAÇÕES:   use the option -Dsun.java2d.cmm=sun.java2d.cmm.kcms.KcmsServiceProvider\n",
      "dez 22, 2023 10:11:24 PM org.apache.pdfbox.rendering.PDFRenderer suggestKCMS\n",
      "INFORMAÇÕES:   or call System.setProperty(\"sun.java2d.cmm\", \"sun.java2d.cmm.kcms.KcmsServiceProvider\")\n",
      "\n",
      "C:\\Users\\USER\\AppData\\Local\\Temp\\ipykernel_9840\\2055474536.py:14: FutureWarning: The frame.append method is deprecated and will be removed from pandas in a future version. Use pandas.concat instead.\n",
      "  dataframe = dataframe.append(pdf_data, ignore_index=True)\n"
     ]
    }
   ],
   "source": [
    "pdfs_path = 'data/'\n",
    "\n",
    "# iterate over data directory and append all pdf's to a dataframe\n",
    "\n",
    "dataframe = pd.DataFrame()\n",
    "\n",
    "for pdf in os.listdir(pdfs_path):\n",
    "    # combine all pdf's\n",
    "    pdf_join = os.path.join(pdfs_path, pdf)\n",
    "\n",
    "    pdf_data = tabula.read_pdf(pdf_join, pages='all')\n",
    "\n",
    "    # append the data to the dataframe\n",
    "    dataframe = dataframe.append(pdf_data, ignore_index=True)"
   ]
  },
  {
   "cell_type": "code",
   "execution_count": 4,
   "metadata": {},
   "outputs": [
    {
     "name": "stdout",
     "output_type": "stream",
     "text": [
      "number of candidates: 36045\n"
     ]
    }
   ],
   "source": [
    "print(f'number of candidates: {len(dataframe)}')"
   ]
  },
  {
   "cell_type": "markdown",
   "metadata": {},
   "source": [
    "### 2. data cleaning"
   ]
  },
  {
   "cell_type": "code",
   "execution_count": 5,
   "metadata": {},
   "outputs": [
    {
     "data": {
      "text/html": [
       "<div>\n",
       "<style scoped>\n",
       "    .dataframe tbody tr th:only-of-type {\n",
       "        vertical-align: middle;\n",
       "    }\n",
       "\n",
       "    .dataframe tbody tr th {\n",
       "        vertical-align: top;\n",
       "    }\n",
       "\n",
       "    .dataframe thead th {\n",
       "        text-align: right;\n",
       "    }\n",
       "</style>\n",
       "<table border=\"1\" class=\"dataframe\">\n",
       "  <thead>\n",
       "    <tr style=\"text-align: right;\">\n",
       "      <th></th>\n",
       "      <th>Inscrição</th>\n",
       "      <th>Nome do Candidato L.EST</th>\n",
       "      <th>Unnamed: 0</th>\n",
       "      <th>HIS</th>\n",
       "      <th>GEO</th>\n",
       "      <th>BIO</th>\n",
       "      <th>FIS</th>\n",
       "      <th>MAT</th>\n",
       "      <th>QUI</th>\n",
       "      <th>LPL</th>\n",
       "      <th>RED</th>\n",
       "      <th>Nome do Candidato</th>\n",
       "      <th>L.EST</th>\n",
       "    </tr>\n",
       "  </thead>\n",
       "  <tbody>\n",
       "    <tr>\n",
       "      <th>0</th>\n",
       "      <td>243016253-0</td>\n",
       "      <td>ABDIEL FELIPE DE OLIVEIRA SILVA</td>\n",
       "      <td>NaN</td>\n",
       "      <td>NaN</td>\n",
       "      <td>NaN</td>\n",
       "      <td>NaN</td>\n",
       "      <td>NaN</td>\n",
       "      <td>0,00</td>\n",
       "      <td>NaN</td>\n",
       "      <td>0,00</td>\n",
       "      <td>1,00</td>\n",
       "      <td>NaN</td>\n",
       "      <td>NaN</td>\n",
       "    </tr>\n",
       "    <tr>\n",
       "      <th>1</th>\n",
       "      <td>243007702-3</td>\n",
       "      <td>ABEL MOSCHEN CARVALHO</td>\n",
       "      <td>NaN</td>\n",
       "      <td>NaN</td>\n",
       "      <td>NaN</td>\n",
       "      <td>14,25</td>\n",
       "      <td>NaN</td>\n",
       "      <td>NaN</td>\n",
       "      <td>13,75</td>\n",
       "      <td>NaN</td>\n",
       "      <td>12,00</td>\n",
       "      <td>NaN</td>\n",
       "      <td>NaN</td>\n",
       "    </tr>\n",
       "    <tr>\n",
       "      <th>2</th>\n",
       "      <td>243030973-3</td>\n",
       "      <td>ABEL VIEIRA DE RESENDE</td>\n",
       "      <td>NaN</td>\n",
       "      <td>FALTA</td>\n",
       "      <td>NaN</td>\n",
       "      <td>NaN</td>\n",
       "      <td>NaN</td>\n",
       "      <td>NaN</td>\n",
       "      <td>NaN</td>\n",
       "      <td>FALTA</td>\n",
       "      <td>FALTA</td>\n",
       "      <td>NaN</td>\n",
       "      <td>NaN</td>\n",
       "    </tr>\n",
       "    <tr>\n",
       "      <th>3</th>\n",
       "      <td>243009357-0</td>\n",
       "      <td>ABIGAIL CRISTINA DA SILVA REZENDE</td>\n",
       "      <td>NaN</td>\n",
       "      <td>NaN</td>\n",
       "      <td>NaN</td>\n",
       "      <td>7,75</td>\n",
       "      <td>NaN</td>\n",
       "      <td>NaN</td>\n",
       "      <td>7,00</td>\n",
       "      <td>NaN</td>\n",
       "      <td>8,00</td>\n",
       "      <td>NaN</td>\n",
       "      <td>NaN</td>\n",
       "    </tr>\n",
       "    <tr>\n",
       "      <th>4</th>\n",
       "      <td>243025508-0</td>\n",
       "      <td>ABIGAIL CRISTINA SALDANHA LEITE REZENDE DE MAT...</td>\n",
       "      <td>NaN</td>\n",
       "      <td>6,50</td>\n",
       "      <td>NaN</td>\n",
       "      <td>NaN</td>\n",
       "      <td>NaN</td>\n",
       "      <td>NaN</td>\n",
       "      <td>NaN</td>\n",
       "      <td>NaN</td>\n",
       "      <td>12,00</td>\n",
       "      <td>NaN</td>\n",
       "      <td>NaN</td>\n",
       "    </tr>\n",
       "  </tbody>\n",
       "</table>\n",
       "</div>"
      ],
      "text/plain": [
       "     Inscrição                            Nome do Candidato L.EST Unnamed: 0  \\\n",
       "0  243016253-0                    ABDIEL FELIPE DE OLIVEIRA SILVA        NaN   \n",
       "1  243007702-3                              ABEL MOSCHEN CARVALHO        NaN   \n",
       "2  243030973-3                             ABEL VIEIRA DE RESENDE        NaN   \n",
       "3  243009357-0                  ABIGAIL CRISTINA DA SILVA REZENDE        NaN   \n",
       "4  243025508-0  ABIGAIL CRISTINA SALDANHA LEITE REZENDE DE MAT...        NaN   \n",
       "\n",
       "     HIS  GEO    BIO  FIS   MAT    QUI    LPL    RED Nome do Candidato L.EST  \n",
       "0    NaN  NaN    NaN  NaN  0,00    NaN   0,00   1,00               NaN   NaN  \n",
       "1    NaN  NaN  14,25  NaN   NaN  13,75    NaN  12,00               NaN   NaN  \n",
       "2  FALTA  NaN    NaN  NaN   NaN    NaN  FALTA  FALTA               NaN   NaN  \n",
       "3    NaN  NaN   7,75  NaN   NaN   7,00    NaN   8,00               NaN   NaN  \n",
       "4   6,50  NaN    NaN  NaN   NaN    NaN    NaN  12,00               NaN   NaN  "
      ]
     },
     "execution_count": 5,
     "metadata": {},
     "output_type": "execute_result"
    }
   ],
   "source": [
    "modified_df = dataframe.copy()\n",
    "modified_df[0:5]"
   ]
  },
  {
   "cell_type": "code",
   "execution_count": 6,
   "metadata": {},
   "outputs": [],
   "source": [
    "for index, row in modified_df.iterrows():\n",
    "    if type(row['Nome do Candidato']) is float:\n",
    "        row['Nome do Candidato'] = row['Nome do Candidato L.EST']\n",
    "\n"
   ]
  },
  {
   "cell_type": "code",
   "execution_count": 7,
   "metadata": {},
   "outputs": [],
   "source": [
    "# remove columns 'Nome do Candidato L.EST' and 'Unnamed: 0'\n",
    "\n",
    "columns_to_remove = ['Unnamed: 0', 'Nome do Candidato L.EST']\n",
    "\n",
    "modified_df = modified_df.drop(columns=columns_to_remove)"
   ]
  },
  {
   "cell_type": "code",
   "execution_count": 9,
   "metadata": {},
   "outputs": [],
   "source": [
    "# remove items with 'FALTA' (those were the students that weren't present at the day of the \n",
    "\n",
    "\n",
    "# Identify rows where 'RED' column is 'FALTA'\n",
    "rows_to_remove = modified_df[modified_df['RED'] == 'FALTA'].index\n",
    "\n",
    "# Use boolean indexing to remove the specified rows\n",
    "modified_df = modified_df.drop(index=rows_to_remove)\n",
    "\n",
    "rows_to_remove = modified_df[modified_df['RED'] == 'ELIM'].index\n",
    "\n",
    "modified_df = modified_df.drop(index=rows_to_remove)"
   ]
  },
  {
   "cell_type": "code",
   "execution_count": 10,
   "metadata": {},
   "outputs": [],
   "source": [
    "# change order of columns for mor organization\n",
    "order = ['Inscrição', 'Nome do Candidato', 'HIS', 'GEO', 'BIO', 'FIS', 'MAT', 'QUI', 'LPL', 'L.EST', 'RED']\n",
    "\n",
    "modified_df = modified_df[order]"
   ]
  },
  {
   "cell_type": "markdown",
   "metadata": {},
   "source": [
    "### 3. data analysis\n",
    "\n",
    "we want to discover some things:\n",
    "\n",
    "\n",
    "- top 90% of the notes in math & physics and biology & chemistry\n",
    "- who will be approved in medicine school\n",
    "- mean ad variance of each displyne score\n",
    "\n"
   ]
  },
  {
   "cell_type": "markdown",
   "metadata": {},
   "source": [
    "#### 3.1 top 90% of notes"
   ]
  },
  {
   "cell_type": "markdown",
   "metadata": {},
   "source": [
    "#### top 90% notes in physics & math"
   ]
  },
  {
   "cell_type": "code",
   "execution_count": 11,
   "metadata": {},
   "outputs": [],
   "source": [
    "# first we need to convert the scores to float numebers\n",
    "\n",
    "df_names = modified_df[['Inscrição', 'Nome do Candidato']]\n",
    "df_scores = modified_df[['HIS', 'GEO', 'BIO', 'FIS', 'MAT', 'QUI', 'LPL', 'L.EST', 'RED']]"
   ]
  },
  {
   "cell_type": "code",
   "execution_count": 12,
   "metadata": {},
   "outputs": [],
   "source": [
    "def string_to_float(s):\n",
    "    if type(s) is not str:\n",
    "        return None\n",
    "    return float(s.replace(',', '.'))\n",
    "\n",
    "df_scores = df_scores.applymap(string_to_float)\n",
    "\n",
    "\n",
    "\n"
   ]
  },
  {
   "cell_type": "code",
   "execution_count": 13,
   "metadata": {},
   "outputs": [],
   "source": [
    "fis_array = np.array(df_scores['FIS'].dropna())\n",
    "mat_array = np.array(df_scores['MAT'].dropna())\n",
    "bio_array = np.array(df_scores['BIO'].dropna())\n",
    "qui_array = np.array(df_scores['QUI'].dropna())\n",
    "red_array = np.array(df_scores['RED'].dropna())"
   ]
  },
  {
   "cell_type": "code",
   "execution_count": 14,
   "metadata": {},
   "outputs": [
    {
     "name": "stdout",
     "output_type": "stream",
     "text": [
      "physics 10% of  best students 16.5\n",
      "math 10% of  best students 15.5\n",
      "biology 10% of  best students 11.25\n",
      "chemestry 10% of  best students 12.0\n"
     ]
    }
   ],
   "source": [
    "print(f'physics 10% of  best students {np.percentile(fis_array, 90)}') # --> top 10% of sthe students got this grade\n",
    "print(f'math 10% of  best students {np.percentile(mat_array, 90)}')\n",
    "print(f'biology 10% of  best students {np.percentile(bio_array, 90)}')\n",
    "print(f'chemestry 10% of  best students {np.percentile(qui_array, 90)}')"
   ]
  },
  {
   "cell_type": "code",
   "execution_count": 18,
   "metadata": {},
   "outputs": [
    {
     "name": "stdout",
     "output_type": "stream",
     "text": [
      "57 highest numbers in biology: [16.25 16.25 16.25 16.25 16.25 16.25 16.25 16.25 16.25 16.25 16.25 16.25\n",
      " 16.5  16.25 16.25 16.5  16.5  16.5  16.5  16.5  16.5  16.5  16.5  16.75\n",
      " 17.5  17.   17.25 16.75 18.   16.5  16.75 17.   17.   16.5  17.   16.75\n",
      " 16.75 17.25 18.5  17.5  17.25 17.5  17.   16.75 16.75 18.   17.25 17.\n",
      " 17.5  17.   16.5  17.25 17.   17.   17.   17.75 17.25]\n"
     ]
    }
   ],
   "source": [
    "# get grades that will probrabily be in med school\n",
    "\n",
    "# Get the 57 highest numbers\n",
    "k = 57\n",
    "highest_numbers_bio = np.partition(bio_array, -k)[-k:]\n",
    "\n",
    "print(\"57 highest numbers in biology:\", highest_numbers_bio)\n"
   ]
  },
  {
   "cell_type": "code",
   "execution_count": 19,
   "metadata": {},
   "outputs": [
    {
     "name": "stdout",
     "output_type": "stream",
     "text": [
      "57 highest numbers in chemestry: [17.5  17.5  17.5  17.75 18.   17.75 17.75 18.   18.   18.   17.75 17.75\n",
      " 18.   17.75 18.   17.75 17.75 18.   17.75 17.75 17.75 18.25 17.75 17.75\n",
      " 18.   18.25 18.   18.25 18.   17.75 18.25 18.25 18.   18.25 18.   17.75\n",
      " 17.75 18.   18.5  19.   19.   18.5  18.75 18.5  18.5  18.75 19.25 19.25\n",
      " 18.5  19.   18.5  19.25 19.   19.   20.   18.5  19.  ]\n"
     ]
    }
   ],
   "source": [
    "# get grades that will probrabily be in med school\n",
    "\n",
    "# Get the 57 highest numbers\n",
    "k = 57\n",
    "highest_numbers_qui = np.partition(qui_array, -k)[-k:]\n",
    "\n",
    "print(\"57 highest numbers in chemestry:\", highest_numbers_qui)"
   ]
  },
  {
   "cell_type": "code",
   "execution_count": 17,
   "metadata": {},
   "outputs": [
    {
     "name": "stdout",
     "output_type": "stream",
     "text": [
      "66 highest numbers in math: [19.   19.25 19.25 19.25 19.25 19.25 19.25 19.25 19.25 19.25 19.25 19.25\n",
      " 19.25 19.25 19.25 19.5  19.5  19.25 19.5  19.5  19.25 19.25 19.5  19.25\n",
      " 19.25 19.25 19.5  19.5  19.5  19.5  19.5  19.5  19.5  19.5  19.5  19.75\n",
      " 19.25 19.25 19.5  19.75 19.75 20.   20.   20.   20.   20.   19.75 20.\n",
      " 20.   20.   20.   20.   20.   20.   19.75 20.   20.   20.   20.   20.\n",
      " 20.   20.   20.   20.   20.   20.  ]\n",
      "66 highest numbers in physics: [19.5  19.5  19.5  19.5  19.5  19.5  19.5  19.5  19.5  19.5  19.5  19.5\n",
      " 19.5  19.5  19.75 19.75 19.75 19.75 19.75 19.75 20.   20.   19.75 20.\n",
      " 20.   20.   20.   20.   19.75 19.75 19.75 20.   19.75 19.75 19.75 20.\n",
      " 20.   20.   19.75 20.   20.   20.   20.   20.   20.   20.   20.   20.\n",
      " 20.   20.   20.   20.   20.   20.   20.   20.   20.   20.   20.   20.\n",
      " 20.   20.   20.   20.   20.   20.  ]\n"
     ]
    }
   ],
   "source": [
    "# grades for math & physics\n",
    "\n",
    "# Get the 66 highest numbers\n",
    "k = 66\n",
    "highest_numbers_mat = np.partition(mat_array, -k)[-k:]\n",
    "\n",
    "print(\"66 highest numbers in math:\", highest_numbers_mat)\n",
    "\n",
    "# Get the 57 highest numbers\n",
    "highest_numbers_fis = np.partition(fis_array, -k)[-k:]\n",
    "\n",
    "print(\"66 highest numbers in physics:\", highest_numbers_fis)"
   ]
  },
  {
   "cell_type": "code",
   "execution_count": 21,
   "metadata": {},
   "outputs": [
    {
     "name": "stdout",
     "output_type": "stream",
     "text": [
      "66 highest numbers in computer science: [17.5  17.5  17.5  17.5  18.75 18.   19.75 20.   20.   17.5  17.75 19.25\n",
      " 17.75 19.25 18.25 17.75 18.   18.   17.75 18.25 17.5  19.25 18.   18.\n",
      " 18.5  19.5  18.25 18.25 17.5  18.25 19.75 18.25 19.25 19.   20.   17.5\n",
      " 18.   17.75 18.75 20.   17.75 17.75 19.5  20.   17.5  19.25 17.5  17.75\n",
      " 18.5  19.5  17.75 18.5  19.   19.25 17.5  17.75 19.75 17.5  17.75 19.25\n",
      " 18.25 19.   18.5  18.75 20.   17.75]\n"
     ]
    }
   ],
   "source": [
    "cs_students_mat = np.random.choice(mat_array, size=int(len(mat_array)* 0.25))\n",
    "\n",
    "k = 66\n",
    "highest_numbers_cs = np.partition(cs_students_mat, -k)[-k:]\n",
    "\n",
    "print(\"66 highest numbers in computer science:\", highest_numbers_cs)\n"
   ]
  },
  {
   "cell_type": "code",
   "execution_count": 22,
   "metadata": {},
   "outputs": [
    {
     "name": "stdout",
     "output_type": "stream",
     "text": [
      "66 highest numbers in computer science: [18.5  18.5  18.75 19.   18.75 18.5  18.75 18.75 18.75 18.75 19.   19.\n",
      " 18.75 18.75 19.   18.5  19.   19.   19.   19.   19.   19.5  19.5  19.5\n",
      " 19.5  19.25 20.   20.   19.5  19.   19.25 19.5  19.25 19.75 19.5  19.25\n",
      " 19.5  19.5  19.   19.5  19.   19.5  20.   19.75 20.   19.75 20.   19.5\n",
      " 19.5  20.   19.75 20.   20.   19.75 20.   19.75 19.75 19.75 20.   20.\n",
      " 19.   20.   19.5  19.75 20.   19.75]\n"
     ]
    }
   ],
   "source": [
    "cs_students_fis = np.random.choice(fis_array, size=int(len(mat_array)* 0.25))\n",
    "\n",
    "k = 66\n",
    "highest_numbers_cs = np.partition(cs_students_fis, -k)[-k:]\n",
    "\n",
    "print(\"66 highest numbers in computer science:\", highest_numbers_cs)\n",
    "\n"
   ]
  },
  {
   "cell_type": "code",
   "execution_count": 23,
   "metadata": {},
   "outputs": [
    {
     "name": "stdout",
     "output_type": "stream",
     "text": [
      "32173\n",
      "1005\n",
      "66 highest numbers in computer science: [17.   17.25 17.25 17.25 17.25 17.   17.5  17.5  17.5  17.5  17.5  17.5\n",
      " 18.   18.   17.75 18.   17.75 17.75 18.   18.   18.25 18.   17.75 17.75\n",
      " 17.75 18.   18.   17.75 18.25 18.   17.75 17.75 17.75 18.   17.5  17.5\n",
      " 18.25 17.5  18.25 19.   20.   20.   20.   19.   19.5  18.5  20.   19.5\n",
      " 18.75 18.5  19.75 18.75 20.   19.25 19.25 20.   19.25 19.5  18.25 19.5\n",
      " 20.   19.5  18.75 19.   18.5  20.  ]\n"
     ]
    }
   ],
   "source": [
    "cs_students_red = np.random.choice(mat_array, size=int(len(red_array)/32))\n",
    "\n",
    "k = 66\n",
    "highest_numbers_cs = np.partition(cs_students_red, -k)[-k:]\n",
    "\n",
    "print(len(red_array))\n",
    "print(len(cs_students_red))\n",
    "print(\"66 highest numbers in computer science:\", highest_numbers_cs)"
   ]
  },
  {
   "cell_type": "markdown",
   "metadata": {},
   "source": [
    "make a `DataFrame` with dicovered data\n",
    "\n",
    "our `DataFrame` will have:\n",
    "- data of biology, chemestry, math, essay and physics\n",
    "- grades of top 10% of the students\n",
    "- number of people doing these acceptance exams\n",
    "- average grade\n",
    "- variance of grade"
   ]
  },
  {
   "cell_type": "code",
   "execution_count": 29,
   "metadata": {},
   "outputs": [],
   "source": [
    "# 10% best grades\n",
    "top_10_bio = np.percentile(bio_array, 90)\n",
    "top_10_qui = np.percentile(qui_array, 90)\n",
    "top_10_mat = np.percentile(mat_array, 90)\n",
    "top_10_fis = np.percentile(fis_array, 90)\n",
    "top_10_red = np.percentile(red_array, 90)"
   ]
  },
  {
   "cell_type": "code",
   "execution_count": 31,
   "metadata": {},
   "outputs": [],
   "source": [
    "# number of candidates\n",
    "mat_candidates = len(mat_array)\n",
    "fis_candidates = len(fis_array)\n",
    "bio_candidats = len(bio_array)\n",
    "qui_candidates = len(qui_array)\n",
    "red_candidates = len(red_array)"
   ]
  },
  {
   "cell_type": "code",
   "execution_count": 32,
   "metadata": {},
   "outputs": [],
   "source": [
    "# average grade\n",
    "mat_avg = np.mean(mat_array)\n",
    "fis_avg = np.mean(fis_array)\n",
    "bio_avg = np.mean(bio_array)\n",
    "qui_avg = np.mean(qui_array)\n",
    "red_avg = np.mean(red_array)"
   ]
  },
  {
   "cell_type": "code",
   "execution_count": 34,
   "metadata": {},
   "outputs": [],
   "source": [
    "# variance\n",
    "mat_var = np.var(mat_array)\n",
    "fis_var = np.var(fis_array)\n",
    "bio_var = np.var(bio_array)\n",
    "qui_var = np.var(qui_array)\n",
    "red_var = np.var(red_array)"
   ]
  },
  {
   "cell_type": "code",
   "execution_count": 38,
   "metadata": {},
   "outputs": [],
   "source": [
    "# create dictionary and dataframe\n",
    "\n",
    "data_dict = {'Subject': ['Chemestry', 'Biology', 'Physics', 'Math', 'Essay'],\n",
    "             'Number of Candidates': [qui_candidates, bio_candidats, fis_candidates, mat_candidates, red_candidates],\n",
    "             'Average Score': [qui_avg, bio_avg, fis_avg, mat_avg, red_avg],\n",
    "             'Variance Between Scores': [qui_var, bio_var, fis_var, mat_var, red_var],\n",
    "             '10% Best Scores': [top_10_qui, top_10_bio, top_10_fis, top_10_mat, top_10_red]}\n",
    "\n",
    "analysis_df = pd.DataFrame(data_dict)"
   ]
  },
  {
   "cell_type": "code",
   "execution_count": 39,
   "metadata": {},
   "outputs": [
    {
     "data": {
      "text/html": [
       "<div>\n",
       "<style scoped>\n",
       "    .dataframe tbody tr th:only-of-type {\n",
       "        vertical-align: middle;\n",
       "    }\n",
       "\n",
       "    .dataframe tbody tr th {\n",
       "        vertical-align: top;\n",
       "    }\n",
       "\n",
       "    .dataframe thead th {\n",
       "        text-align: right;\n",
       "    }\n",
       "</style>\n",
       "<table border=\"1\" class=\"dataframe\">\n",
       "  <thead>\n",
       "    <tr style=\"text-align: right;\">\n",
       "      <th></th>\n",
       "      <th>Subject</th>\n",
       "      <th>Number of Candidates</th>\n",
       "      <th>Average Score</th>\n",
       "      <th>Variance Between Scores</th>\n",
       "      <th>10% Best Scores</th>\n",
       "    </tr>\n",
       "  </thead>\n",
       "  <tbody>\n",
       "    <tr>\n",
       "      <th>0</th>\n",
       "      <td>Chemestry</td>\n",
       "      <td>14459</td>\n",
       "      <td>5.807646</td>\n",
       "      <td>17.980822</td>\n",
       "      <td>12.00</td>\n",
       "    </tr>\n",
       "    <tr>\n",
       "      <th>1</th>\n",
       "      <td>Biology</td>\n",
       "      <td>16152</td>\n",
       "      <td>5.418880</td>\n",
       "      <td>14.984787</td>\n",
       "      <td>11.25</td>\n",
       "    </tr>\n",
       "    <tr>\n",
       "      <th>2</th>\n",
       "      <td>Physics</td>\n",
       "      <td>3882</td>\n",
       "      <td>8.013266</td>\n",
       "      <td>31.888284</td>\n",
       "      <td>16.50</td>\n",
       "    </tr>\n",
       "    <tr>\n",
       "      <th>3</th>\n",
       "      <td>Math</td>\n",
       "      <td>6152</td>\n",
       "      <td>7.992360</td>\n",
       "      <td>23.871894</td>\n",
       "      <td>15.50</td>\n",
       "    </tr>\n",
       "    <tr>\n",
       "      <th>4</th>\n",
       "      <td>Essay</td>\n",
       "      <td>32173</td>\n",
       "      <td>11.221552</td>\n",
       "      <td>11.702072</td>\n",
       "      <td>16.00</td>\n",
       "    </tr>\n",
       "  </tbody>\n",
       "</table>\n",
       "</div>"
      ],
      "text/plain": [
       "     Subject  Number of Candidates  Average Score  Variance Between Scores  \\\n",
       "0  Chemestry                 14459       5.807646                17.980822   \n",
       "1    Biology                 16152       5.418880                14.984787   \n",
       "2    Physics                  3882       8.013266                31.888284   \n",
       "3       Math                  6152       7.992360                23.871894   \n",
       "4      Essay                 32173      11.221552                11.702072   \n",
       "\n",
       "   10% Best Scores  \n",
       "0            12.00  \n",
       "1            11.25  \n",
       "2            16.50  \n",
       "3            15.50  \n",
       "4            16.00  "
      ]
     },
     "execution_count": 39,
     "metadata": {},
     "output_type": "execute_result"
    }
   ],
   "source": [
    "analysis_df"
   ]
  }
 ],
 "metadata": {
  "kernelspec": {
   "display_name": "venv",
   "language": "python",
   "name": "python3"
  },
  "language_info": {
   "codemirror_mode": {
    "name": "ipython",
    "version": 3
   },
   "file_extension": ".py",
   "mimetype": "text/x-python",
   "name": "python",
   "nbconvert_exporter": "python",
   "pygments_lexer": "ipython3",
   "version": "3.10.7"
  }
 },
 "nbformat": 4,
 "nbformat_minor": 2
}
